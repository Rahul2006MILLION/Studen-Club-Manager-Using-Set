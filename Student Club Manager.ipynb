{
 "cells": [
  {
   "cell_type": "code",
   "execution_count": 11,
   "id": "4ae70e5a-051f-4dba-bba0-1cfdac9bdae9",
   "metadata": {},
   "outputs": [
    {
     "name": "stdin",
     "output_type": "stream",
     "text": [
      "Enter the No. of Student willing to join in CODING CLUB:  3\n",
      "Enter the No. of Student willing to join in AI CLUB:  4\n"
     ]
    },
    {
     "name": "stdout",
     "output_type": "stream",
     "text": [
      "CODING CLUB...\n"
     ]
    },
    {
     "name": "stdin",
     "output_type": "stream",
     "text": [
      "Enter the Student Names for CODING CLUB:  Rahul\n",
      "Enter the Student Names for CODING CLUB:  Alex\n",
      "Enter the Student Names for CODING CLUB:  Judy\n"
     ]
    },
    {
     "name": "stdout",
     "output_type": "stream",
     "text": [
      "AI CLUB...\n"
     ]
    },
    {
     "name": "stdin",
     "output_type": "stream",
     "text": [
      "Enter the Student Names for AI CLUB:  Nina\n",
      "Enter the Student Names for AI CLUB:  Sabrina\n",
      "Enter the Student Names for AI CLUB:  Rahul\n",
      "Enter the Student Names for AI CLUB:  Jordan\n"
     ]
    },
    {
     "name": "stdout",
     "output_type": "stream",
     "text": [
      "STUDENTS TOTAL PARTICIPATING IN CLUBS\n",
      "rahul, nina, sabrina, alex, jordan, judy\n",
      "-----------------------------------\n",
      "CODING CLUB: rahul, alex, judy\n",
      "------------------------------\n",
      "AI CLUB: rahul, jordan, sabrina, nina\n",
      "------------------------------\n",
      "STUDENTS PARTICIPATING IN EITHER OF ONE CLUB: sabrina, alex, jordan, judy, nina\n",
      "------------------------------\n",
      "STUDENTS IN BOTH THE CLUBS: rahul\n",
      "------------------------------\n"
     ]
    }
   ],
   "source": [
    "n1=int(input('Enter the No. of Student willing to join in CODING CLUB: '))\n",
    "n2=int(input('Enter the No. of Student willing to join in AI CLUB: '))\n",
    "l1=[]\n",
    "l2=[]\n",
    "print(\"CODING CLUB...\")\n",
    "for i in range(n1):\n",
    "    name1=input(\"Enter the Student Names for CODING CLUB: \").lower()\n",
    "    l1.append(name1)\n",
    "print(\"AI CLUB...\")\n",
    "for j in range(n2):\n",
    "    name2=input(\"Enter the Student Names for AI CLUB: \").lower()\n",
    "    l2.append(name2)\n",
    "a=set(l1)\n",
    "b=set(l2)\n",
    "print(f\"STUDENTS TOTAL PARTICIPATING IN CLUBS\\n{', '.join(a.union(b))}\")\n",
    "print('-'*35)\n",
    "print(f\"CODING CLUB: {', '.join(a)}\")\n",
    "print('-'*30)\n",
    "print(f\"AI CLUB: {', '.join(b)}\")\n",
    "print('-'*30)\n",
    "print(f\"STUDENTS PARTICIPATING IN EITHER OF ONE CLUB: {', '.join(a.symmetric_difference(b))}\")\n",
    "print('-'*30)\n",
    "print(f\"STUDENTS IN BOTH THE CLUBS: {', '.join(a.intersection(b))}\")\n",
    "print('-'*30)\n",
    "if a.intersection(b) == set():\n",
    "    print(\"No Sudents In Both The Clubs\")"
   ]
  },
  {
   "cell_type": "code",
   "execution_count": null,
   "id": "fb6483f0-5180-44fd-b075-21bc8c010ae1",
   "metadata": {},
   "outputs": [],
   "source": []
  }
 ],
 "metadata": {
  "kernelspec": {
   "display_name": "Python 3 (ipykernel)",
   "language": "python",
   "name": "python3"
  },
  "language_info": {
   "codemirror_mode": {
    "name": "ipython",
    "version": 3
   },
   "file_extension": ".py",
   "mimetype": "text/x-python",
   "name": "python",
   "nbconvert_exporter": "python",
   "pygments_lexer": "ipython3",
   "version": "3.12.4"
  }
 },
 "nbformat": 4,
 "nbformat_minor": 5
}
